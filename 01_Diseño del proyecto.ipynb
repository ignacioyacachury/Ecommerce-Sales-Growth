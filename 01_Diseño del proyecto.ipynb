{
 "cells": [
  {
   "cell_type": "markdown",
   "id": "deab8a30",
   "metadata": {},
   "source": [
    "# DISEÑO DEL PROYECTO"
   ]
  },
  {
   "cell_type": "markdown",
   "id": "33c37144",
   "metadata": {},
   "source": [
    "En este caso vamos a trabajar con los datos de un ecommerce del sector cosméticos que estuvo teniendo una evolución de ventas plana en los últimos meses, por lo que vamos a tener que realizar un análisis para implementar acciones CRO para su situación particular."
   ]
  },
  {
   "cell_type": "markdown",
   "id": "73736072",
   "metadata": {},
   "source": [
    "## OBJETIVO"
   ]
  },
  {
   "cell_type": "markdown",
   "id": "f200409b",
   "metadata": {},
   "source": [
    "Analizar los datos transaccionales para intentar encontrar potenciales acciones CRO que incrementen visitas, conversiones y ticket medio, y por tanto incrementar la facturación global del ecommerce.\n",
    "\n",
    "Crear activos analíticos avanzados como una segmentación RFM y un sistema de recomendación que impulsen la consecución del objetivo."
   ]
  },
  {
   "cell_type": "markdown",
   "id": "3c6f9327",
   "metadata": {},
   "source": [
    "## PALANCAS"
   ]
  },
  {
   "cell_type": "markdown",
   "id": "fe738fb6",
   "metadata": {},
   "source": [
    "Primero hay que analizar como funciona un ecommerce, y sus principales procesos, métricas y conceptos."
   ]
  },
  {
   "cell_type": "markdown",
   "id": "1b5ff9c5",
   "metadata": {},
   "source": [
    "El primer paso es cuando un usuario llega a la web del ecommerce. Normalmente vendrá desde:\n",
    "\n",
    "* Campañas de pago: paid ads como Facebook Ads o Google Ads\n",
    "* Contenido orgánico: blog, rrss, ...\n",
    "* Tráfico directo: conoce la url y la introduce en el navegador\n",
    "\n",
    "El usuario navega por la web y cuando le gusta un producto lo mete en el carrito.\n",
    "\n",
    "Por último, puede sacar productos del carrito, salir sin comprar nada, o finalmente hacer el pedido.\n",
    "\n",
    "Un proceso común es la venta cruzada, en la cual se recomiendan al usuario otros productos que también podrían interesarle.\n",
    "\n",
    "Incluso cuando se fue de nuestra página podemos volver a contartar al usuario mediante retargeting o email marketing.\n",
    "\n",
    "Estas son algunas de las métricas clave que hay que tener en cuenta al gestionar un ecommerce:\n",
    "\n",
    "* CPA\n",
    "* Ratio de conversión\n",
    "* AOV\n",
    "* Frecuencia de compra\n",
    "* LTV\n",
    "* Churn\n",
    "\n",
    "Solo existen 3 formas de incrementar un negocio:\n",
    "\n",
    "1. Más clientes: esto implica conseguir más visitas y mayor conversión\n",
    "2. Más frecuencia: esto implica conseguir que los mismos clientes compren más veces\n",
    "3. Mayor ticket medio: esto implica conseguir que se compre más o más caro en la misma sesión de compra\n",
    "\n",
    "Para conseguir esos 3 efectos trabajamos sobre las siguientes palancas operativas:\n",
    "\n",
    "* Customer journey: cómo podemos optimizar cada uno de los pasos del proceso\n",
    "* Clientes: cómo podemos usar la info disponible de los clientes para optimizar las campañas que realicemos\n",
    "* Productos: cómo podemos optimizar el catálogo de productos e identificar de manera personalizada qué productos tenemos que poner delante de cada cliente"
   ]
  },
  {
   "cell_type": "markdown",
   "id": "d71fc34c",
   "metadata": {},
   "source": [
    "## KPIs"
   ]
  },
  {
   "cell_type": "markdown",
   "id": "a2226912",
   "metadata": {},
   "source": [
    "* Visitas\n",
    "* Conversión\n",
    "* Frecuencia de compra\n",
    "* Ticket medio\n",
    "* Tasa abandono carrito\n",
    "* LTV"
   ]
  },
  {
   "cell_type": "markdown",
   "id": "8dc55217",
   "metadata": {},
   "source": [
    "## ENTIDADES Y DATOS"
   ]
  },
  {
   "cell_type": "markdown",
   "id": "bb9d5316",
   "metadata": {},
   "source": [
    "En nuestro caso las entidades que tenemos en la granularidad de los datos son:\n",
    "    \n",
    "* Usuarios\n",
    "* Clientes\n",
    "* Sesiones\n",
    "* Eventos\n",
    "* Productos"
   ]
  },
  {
   "cell_type": "markdown",
   "id": "fec0babe",
   "metadata": {},
   "source": [
    "## PREGUNTAS SEMILLA"
   ]
  },
  {
   "cell_type": "markdown",
   "id": "8f3dcf9d",
   "metadata": {},
   "source": [
    "Habiendo entendido las palancas, kpis y entidades ya podemos plantear las preguntas semilla:\n",
    "\n",
    "Sobre el customer journey:\n",
    "\n",
    "* ¿Cómo es un proceso típico de compra?\n",
    "* ¿Cuántos productos se ven, se añaden al carro, se abandonan y se compran de media en cada sesión?\n",
    "* ¿Cómo ha sido la tendencia de estos indicadores en los últimos meses?\n",
    "\n",
    "Sobre los clientes:\n",
    "\n",
    "* ¿Cuántos productos compra cada cliente?\n",
    "* ¿Cuánto se gasta cada cliente?\n",
    "* ¿Hay \"mejores clientes\" que haya que identificar y tratar de forma diferente?\n",
    "* ¿Los clientes repiten compras en los siguientes meses?\n",
    "* ¿Cual es el LTV medio de un cliente?\n",
    "* ¿Podemos diseñar campañas personalizas al valor del cliente?\n",
    "\n",
    "Sobre los productos:\n",
    "\n",
    "* ¿Cuales son los productos más vendidos?\n",
    "* ¿Hay productos que no se venden?\n",
    "* ¿Existe relación entre el precio del producto y su volumen de ventas?\n",
    "* ¿Hay productos que se visiten pero no se compren?\n",
    "* ¿Hay productos que se saquen recurrentemente del carrito?\n",
    "* ¿Se podrían hacer recomendaciones personalizadas de productos para cada cliente?"
   ]
  }
 ],
 "metadata": {
  "kernelspec": {
   "display_name": "Python 3 (ipykernel)",
   "language": "python",
   "name": "python3"
  },
  "language_info": {
   "codemirror_mode": {
    "name": "ipython",
    "version": 3
   },
   "file_extension": ".py",
   "mimetype": "text/x-python",
   "name": "python",
   "nbconvert_exporter": "python",
   "pygments_lexer": "ipython3",
   "version": "3.12.1"
  },
  "toc": {
   "base_numbering": 1,
   "nav_menu": {},
   "number_sections": true,
   "sideBar": true,
   "skip_h1_title": false,
   "title_cell": "Table of Contents",
   "title_sidebar": "Contents",
   "toc_cell": false,
   "toc_position": {},
   "toc_section_display": true,
   "toc_window_display": false
  },
  "varInspector": {
   "cols": {
    "lenName": 16,
    "lenType": 16,
    "lenVar": 40
   },
   "kernels_config": {
    "python": {
     "delete_cmd_postfix": "",
     "delete_cmd_prefix": "del ",
     "library": "var_list.py",
     "varRefreshCmd": "print(var_dic_list())"
    },
    "r": {
     "delete_cmd_postfix": ") ",
     "delete_cmd_prefix": "rm(",
     "library": "var_list.r",
     "varRefreshCmd": "cat(var_dic_list()) "
    }
   },
   "types_to_exclude": [
    "module",
    "function",
    "builtin_function_or_method",
    "instance",
    "_Feature"
   ],
   "window_display": false
  }
 },
 "nbformat": 4,
 "nbformat_minor": 5
}
